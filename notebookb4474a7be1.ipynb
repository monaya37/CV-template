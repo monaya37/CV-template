{
 "cells": [
  {
   "cell_type": "code",
   "execution_count": 1,
   "id": "333112ec",
   "metadata": {
    "_cell_guid": "b1076dfc-b9ad-4769-8c92-a6c4dae69d19",
    "_uuid": "8f2839f25d086af736a60e9eeb907d3b93b6e0e5",
    "execution": {
     "iopub.execute_input": "2023-12-01T16:40:28.109383Z",
     "iopub.status.busy": "2023-12-01T16:40:28.108936Z",
     "iopub.status.idle": "2023-12-01T16:40:43.566283Z",
     "shell.execute_reply": "2023-12-01T16:40:43.565008Z"
    },
    "papermill": {
     "duration": 15.467624,
     "end_time": "2023-12-01T16:40:43.569053",
     "exception": false,
     "start_time": "2023-12-01T16:40:28.101429",
     "status": "completed"
    },
    "tags": []
   },
   "outputs": [
    {
     "name": "stdout",
     "output_type": "stream",
     "text": [
      "Requirement already satisfied: openpyxl in /opt/conda/lib/python3.10/site-packages (3.1.2)\r\n",
      "Requirement already satisfied: et-xmlfile in /opt/conda/lib/python3.10/site-packages (from openpyxl) (1.1.0)\r\n"
     ]
    }
   ],
   "source": [
    "#Import Data\n",
    "from collections import defaultdict\n",
    "import pandas as pd \n",
    "import numpy as np\n",
    "!pip install openpyxl\n",
    "\n",
    "\n",
    "\n",
    "\n"
   ]
  },
  {
   "cell_type": "code",
   "execution_count": 2,
   "id": "178fbc19",
   "metadata": {
    "execution": {
     "iopub.execute_input": "2023-12-01T16:40:43.583639Z",
     "iopub.status.busy": "2023-12-01T16:40:43.582866Z",
     "iopub.status.idle": "2023-12-01T16:40:43.967333Z",
     "shell.execute_reply": "2023-12-01T16:40:43.966203Z"
    },
    "papermill": {
     "duration": 0.394204,
     "end_time": "2023-12-01T16:40:43.970115",
     "exception": false,
     "start_time": "2023-12-01T16:40:43.575911",
     "status": "completed"
    },
    "tags": []
   },
   "outputs": [],
   "source": [
    "HorizantalData = pd.read_excel('../input/dataset/Horizontal_Format.xlsx')"
   ]
  },
  {
   "cell_type": "code",
   "execution_count": 3,
   "id": "5a449c9e",
   "metadata": {
    "execution": {
     "iopub.execute_input": "2023-12-01T16:40:43.982874Z",
     "iopub.status.busy": "2023-12-01T16:40:43.982295Z",
     "iopub.status.idle": "2023-12-01T16:40:43.999100Z",
     "shell.execute_reply": "2023-12-01T16:40:43.997726Z"
    },
    "papermill": {
     "duration": 0.02639,
     "end_time": "2023-12-01T16:40:44.001901",
     "exception": false,
     "start_time": "2023-12-01T16:40:43.975511",
     "status": "completed"
    },
    "tags": []
   },
   "outputs": [
    {
     "name": "stdout",
     "output_type": "stream",
     "text": [
      "   TiD        items\n",
      "0    1  M,O,N,K,E,Y\n",
      "1    2  D,O,N,K,E,Y\n",
      "2    3      M,A,K,E\n",
      "3    4    M,U,C,K,Y\n",
      "4    5  C,O,O,K,I,E\n"
     ]
    }
   ],
   "source": [
    "print(HorizantalData)"
   ]
  },
  {
   "cell_type": "code",
   "execution_count": 4,
   "id": "c92e9926",
   "metadata": {
    "execution": {
     "iopub.execute_input": "2023-12-01T16:40:44.015004Z",
     "iopub.status.busy": "2023-12-01T16:40:44.014604Z",
     "iopub.status.idle": "2023-12-01T16:40:44.023931Z",
     "shell.execute_reply": "2023-12-01T16:40:44.022936Z"
    },
    "papermill": {
     "duration": 0.018625,
     "end_time": "2023-12-01T16:40:44.026180",
     "exception": false,
     "start_time": "2023-12-01T16:40:44.007555",
     "status": "completed"
    },
    "tags": []
   },
   "outputs": [],
   "source": [
    "def generate_frequent_itemset(df, min_support):\n",
    "\n",
    "    #Split items in the lists\n",
    "    transactions = df['items'].str.split(',')\n",
    "\n",
    "    #Store itemsets and support count in dictionary\n",
    "    item_counts = defaultdict(int)\n",
    "    total_transactions = len(transactions)\n",
    "\n",
    "    #Loop on transactions to count item occurrences\n",
    "    for transaction in transactions:\n",
    "        unique_items = set(transaction)\n",
    "        for item in unique_items:\n",
    "            item_counts[item] += 1\n",
    "\n",
    "\n",
    "   # --> Check if min_support is a number or a percentage\n",
    "\n",
    "     #if min_support is a number\n",
    "    if isinstance(min_support, (int, float)) and not (0 < min_support <= 1):\n",
    "        min_support_count = min_support\n",
    "\n",
    "     #if min_support is a ratio/fraction\n",
    "    elif isinstance(min_support, (int, float)) and (0 < min_support <= 1):\n",
    "        min_support_count = min_support * total_transactions\n",
    "\n",
    "     #if min_support is a percentage\n",
    "    else:\n",
    "        min_support_count = min_support * total_transactions / 100\n",
    "\n",
    "\n",
    "    #calculate support and filter frequent items\n",
    "    frequent_itemsets = {item: support for item, support in item_counts.items() if support >= min_support_count}\n",
    "    print(\"Frequent Itemsets With Support >=\" , min_support , \":\")\n",
    "    return frequent_itemsets"
   ]
  },
  {
   "cell_type": "code",
   "execution_count": null,
   "id": "8283ed42",
   "metadata": {
    "papermill": {
     "duration": 0.005075,
     "end_time": "2023-12-01T16:40:44.036667",
     "exception": false,
     "start_time": "2023-12-01T16:40:44.031592",
     "status": "completed"
    },
    "tags": []
   },
   "outputs": [],
   "source": [
    "\n"
   ]
  },
  {
   "cell_type": "code",
   "execution_count": 5,
   "id": "610240d3",
   "metadata": {
    "execution": {
     "iopub.execute_input": "2023-12-01T16:40:44.049372Z",
     "iopub.status.busy": "2023-12-01T16:40:44.048976Z",
     "iopub.status.idle": "2023-12-01T16:40:44.056179Z",
     "shell.execute_reply": "2023-12-01T16:40:44.055073Z"
    },
    "papermill": {
     "duration": 0.016837,
     "end_time": "2023-12-01T16:40:44.058982",
     "exception": false,
     "start_time": "2023-12-01T16:40:44.042145",
     "status": "completed"
    },
    "tags": []
   },
   "outputs": [
    {
     "name": "stdout",
     "output_type": "stream",
     "text": [
      "Frequent Itemsets With Support >= 3 :\n",
      "{'K': 5, 'E': 4, 'M': 3, 'O': 3, 'Y': 3}\n"
     ]
    }
   ],
   "source": [
    "frequent_itemsets = generate_frequent_itemset(HorizantalData, 3)\n",
    "frequent_itemsets = dict(sorted(frequent_itemsets.items(), key=lambda x:(-x[1],x[0])))\n",
    "print(frequent_itemsets)"
   ]
  },
  {
   "cell_type": "code",
   "execution_count": null,
   "id": "3aa51c94",
   "metadata": {
    "execution": {
     "iopub.execute_input": "2023-11-30T16:51:53.216494Z",
     "iopub.status.busy": "2023-11-30T16:51:53.216042Z",
     "iopub.status.idle": "2023-11-30T16:51:53.223324Z",
     "shell.execute_reply": "2023-11-30T16:51:53.221725Z",
     "shell.execute_reply.started": "2023-11-30T16:51:53.216460Z"
    },
    "papermill": {
     "duration": 0.005902,
     "end_time": "2023-12-01T16:40:44.070503",
     "exception": false,
     "start_time": "2023-12-01T16:40:44.064601",
     "status": "completed"
    },
    "tags": []
   },
   "outputs": [],
   "source": []
  },
  {
   "cell_type": "code",
   "execution_count": 6,
   "id": "10dc2dad",
   "metadata": {
    "execution": {
     "iopub.execute_input": "2023-12-01T16:40:44.083694Z",
     "iopub.status.busy": "2023-12-01T16:40:44.083306Z",
     "iopub.status.idle": "2023-12-01T16:40:44.091724Z",
     "shell.execute_reply": "2023-12-01T16:40:44.090551Z"
    },
    "papermill": {
     "duration": 0.017898,
     "end_time": "2023-12-01T16:40:44.094023",
     "exception": false,
     "start_time": "2023-12-01T16:40:44.076125",
     "status": "completed"
    },
    "tags": []
   },
   "outputs": [],
   "source": [
    "def get_sorted_transactions(frequent_itemsets):\n",
    "    transactions = HorizantalData['items'].str.split(',')\n",
    "\n",
    "    T1 = defaultdict(int) #for each transaction\n",
    "    T2  = []              #to copy values into\n",
    "    Transactions = []     #array of transactions\n",
    "\n",
    "    for transaction in transactions:\n",
    "        items = set(transaction)\n",
    "        for item in items:\n",
    "            if frequent_itemsets.get(item) is not None:\n",
    "                T1.update({item : frequent_itemsets[item]})\n",
    "        T2 = T1.copy()\n",
    "        Transactions.append(T2)\n",
    "        T1.clear()\n",
    "\n",
    "    Sorted_Transactions = []\n",
    "    for transaction in Transactions:\n",
    "        sorted_transactions = sorted(transaction.items(), key=lambda x:(-x[1],x[0]))\n",
    "        Sorted_Transactions.append(dict(sorted_transactions))\n",
    "\n",
    "    return Sorted_Transactions"
   ]
  },
  {
   "cell_type": "code",
   "execution_count": 7,
   "id": "8ef44836",
   "metadata": {
    "execution": {
     "iopub.execute_input": "2023-12-01T16:40:44.106933Z",
     "iopub.status.busy": "2023-12-01T16:40:44.106286Z",
     "iopub.status.idle": "2023-12-01T16:40:44.112267Z",
     "shell.execute_reply": "2023-12-01T16:40:44.111226Z"
    },
    "papermill": {
     "duration": 0.014868,
     "end_time": "2023-12-01T16:40:44.114464",
     "exception": false,
     "start_time": "2023-12-01T16:40:44.099596",
     "status": "completed"
    },
    "tags": []
   },
   "outputs": [
    {
     "name": "stdout",
     "output_type": "stream",
     "text": [
      "[{'K': 5, 'E': 4, 'M': 3, 'O': 3, 'Y': 3}, {'K': 5, 'E': 4, 'O': 3, 'Y': 3}, {'K': 5, 'E': 4, 'M': 3}, {'K': 5, 'M': 3, 'Y': 3}, {'K': 5, 'E': 4, 'O': 3}]\n"
     ]
    }
   ],
   "source": [
    "sorted_transactions = get_sorted_transactions(frequent_itemsets)\n",
    "print(sorted_transactions)"
   ]
  },
  {
   "cell_type": "code",
   "execution_count": 8,
   "id": "586f0d1b",
   "metadata": {
    "execution": {
     "iopub.execute_input": "2023-12-01T16:40:44.127783Z",
     "iopub.status.busy": "2023-12-01T16:40:44.127335Z",
     "iopub.status.idle": "2023-12-01T16:40:44.138582Z",
     "shell.execute_reply": "2023-12-01T16:40:44.137711Z"
    },
    "papermill": {
     "duration": 0.020823,
     "end_time": "2023-12-01T16:40:44.140840",
     "exception": false,
     "start_time": "2023-12-01T16:40:44.120017",
     "status": "completed"
    },
    "tags": []
   },
   "outputs": [],
   "source": [
    "def get_conditional_pattern_base(frequent_itemsets,sorted_sransactions):\n",
    "\n",
    "    x = dict(sorted(frequent_itemsets.items(), key=lambda x:(-x[1],x[0])))\n",
    "    sorted_frequent_itemsets = x.keys() #menna handled this already?\n",
    "    pattern_base = defaultdict(int)\n",
    "    temp = defaultdict(int) #used to copy\n",
    "    coditional_pattern_base = dict()\n",
    "\n",
    "\n",
    "    for item in sorted_frequent_itemsets:\n",
    "        for i in range(len(sorted_sransactions)):\n",
    "            if (sorted_sransactions[i].get(item) is not None):\n",
    "                transaction = sorted_sransactions[i].keys()\n",
    "                index = list(transaction).index(item)\n",
    "                path1 = list(transaction)[:index]\n",
    "                path = ''\n",
    "                if(len(path1) > 0):\n",
    "                    for i in range(len(path1)):\n",
    "                        path+=path1[i] + ','\n",
    "                    path = list(path)\n",
    "                    path.pop()\n",
    "                    path = ''.join(path)\n",
    "                pattern_base[path] += 1\n",
    "\n",
    "        temp = pattern_base.copy()\n",
    "        coditional_pattern_base[item] = temp\n",
    "        if('' in coditional_pattern_base[item]):\n",
    "            coditional_pattern_base[item].pop('')\n",
    "        pattern_base.clear()\n",
    "    \n",
    "    return coditional_pattern_base; "
   ]
  },
  {
   "cell_type": "code",
   "execution_count": 9,
   "id": "1176ee3f",
   "metadata": {
    "execution": {
     "iopub.execute_input": "2023-12-01T16:40:44.154186Z",
     "iopub.status.busy": "2023-12-01T16:40:44.153774Z",
     "iopub.status.idle": "2023-12-01T16:40:44.161496Z",
     "shell.execute_reply": "2023-12-01T16:40:44.160315Z"
    },
    "papermill": {
     "duration": 0.017876,
     "end_time": "2023-12-01T16:40:44.164405",
     "exception": false,
     "start_time": "2023-12-01T16:40:44.146529",
     "status": "completed"
    },
    "tags": []
   },
   "outputs": [
    {
     "name": "stdout",
     "output_type": "stream",
     "text": [
      "item: Y {'K,E,M,O': 1, 'K,E,O': 1, 'K,M': 1}\n",
      "item: O {'K,E,M': 1, 'K,E': 2}\n",
      "item: M {'K,E': 2, 'K': 1}\n",
      "item: E {'K': 4}\n"
     ]
    }
   ],
   "source": [
    "coditional_pattern_base = get_conditional_pattern_base(frequent_itemsets,sorted_transactions)\n",
    "frequent_itemsets = dict(sorted(frequent_itemsets.items(), key=lambda x:(-x[1],x[0]), reverse = True))\n",
    "for item in frequent_itemsets.keys():\n",
    "    if(dict(coditional_pattern_base[item])):\n",
    "        print(\"item:\" , item, dict(coditional_pattern_base[item]))"
   ]
  },
  {
   "cell_type": "code",
   "execution_count": 10,
   "id": "74fa227a",
   "metadata": {
    "execution": {
     "iopub.execute_input": "2023-12-01T16:40:44.177473Z",
     "iopub.status.busy": "2023-12-01T16:40:44.177096Z",
     "iopub.status.idle": "2023-12-01T16:40:44.186059Z",
     "shell.execute_reply": "2023-12-01T16:40:44.184663Z"
    },
    "papermill": {
     "duration": 0.018316,
     "end_time": "2023-12-01T16:40:44.188435",
     "exception": false,
     "start_time": "2023-12-01T16:40:44.170119",
     "status": "completed"
    },
    "tags": []
   },
   "outputs": [],
   "source": [
    "def get_conditional_trees(coditional_pattern_base):\n",
    "    conditional_trees = dict()\n",
    "    x = defaultdict(int)\n",
    "\n",
    "    for item in coditional_pattern_base:\n",
    "        summ = sum(coditional_pattern_base[item].values())\n",
    "\n",
    "        if(coditional_pattern_base[item]):\n",
    "            common = list(coditional_pattern_base[item].keys())[0]\n",
    "            \n",
    "            for path in coditional_pattern_base[item]:\n",
    "                common = set(path) & set(common)\n",
    "            common = str(common)\n",
    "            \n",
    "            for i in range(len(common)):\n",
    "                if(common[i].isalpha()):\n",
    "                    x[common[i]] = summ\n",
    "            temp = x.copy()\n",
    "            conditional_trees[item] = temp\n",
    "            x.clear()\n",
    "            \n",
    "    return conditional_trees"
   ]
  },
  {
   "cell_type": "code",
   "execution_count": 11,
   "id": "ebeb4d8c",
   "metadata": {
    "execution": {
     "iopub.execute_input": "2023-12-01T16:40:44.201624Z",
     "iopub.status.busy": "2023-12-01T16:40:44.201254Z",
     "iopub.status.idle": "2023-12-01T16:40:44.207186Z",
     "shell.execute_reply": "2023-12-01T16:40:44.206072Z"
    },
    "papermill": {
     "duration": 0.015802,
     "end_time": "2023-12-01T16:40:44.209975",
     "exception": false,
     "start_time": "2023-12-01T16:40:44.194173",
     "status": "completed"
    },
    "tags": []
   },
   "outputs": [
    {
     "name": "stdout",
     "output_type": "stream",
     "text": [
      "E {'K': 4}\n",
      "M {'K': 3}\n",
      "O {'E': 3, 'K': 3}\n",
      "Y {'K': 3}\n"
     ]
    }
   ],
   "source": [
    "conditional_trees = get_conditional_trees(coditional_pattern_base)\n",
    "for item in conditional_trees:\n",
    "    print(item, dict(conditional_trees[item]))"
   ]
  }
 ],
 "metadata": {
  "kaggle": {
   "accelerator": "none",
   "dataSources": [
    {
     "datasetId": 4080669,
     "sourceId": 7083110,
     "sourceType": "datasetVersion"
    }
   ],
   "dockerImageVersionId": 30587,
   "isGpuEnabled": false,
   "isInternetEnabled": true,
   "language": "python",
   "sourceType": "notebook"
  },
  "kernelspec": {
   "display_name": "Python 3",
   "language": "python",
   "name": "python3"
  },
  "language_info": {
   "codemirror_mode": {
    "name": "ipython",
    "version": 3
   },
   "file_extension": ".py",
   "mimetype": "text/x-python",
   "name": "python",
   "nbconvert_exporter": "python",
   "pygments_lexer": "ipython3",
   "version": "3.10.12"
  },
  "papermill": {
   "default_parameters": {},
   "duration": 20.014623,
   "end_time": "2023-12-01T16:40:44.736621",
   "environment_variables": {},
   "exception": null,
   "input_path": "__notebook__.ipynb",
   "output_path": "__notebook__.ipynb",
   "parameters": {},
   "start_time": "2023-12-01T16:40:24.721998",
   "version": "2.4.0"
  }
 },
 "nbformat": 4,
 "nbformat_minor": 5
}
